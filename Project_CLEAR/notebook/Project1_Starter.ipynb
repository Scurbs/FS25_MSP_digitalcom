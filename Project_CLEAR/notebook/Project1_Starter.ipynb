{
 "cells": [
  {
   "cell_type": "code",
   "execution_count": null,
   "id": "b0c004de",
   "metadata": {},
   "outputs": [],
   "source": [
    "!pip install -r ../requirements.txt"
   ]
  },
  {
   "cell_type": "code",
   "execution_count": null,
   "id": "ed5643f6",
   "metadata": {},
   "outputs": [],
   "source": [
    "import numpy as np\n",
    "import matplotlib.pyplot as plt\n",
    "from scipy.signal import convolve\n",
    "from pysdr import digital, spectrum\n",
    "\n",
    "# Custom utils from /src\n",
    "import sys\n",
    "sys.path.append('../src')\n",
    "from utils import *"
   ]
  },
  {
   "cell_type": "markdown",
   "id": "809ff078",
   "metadata": {},
   "source": [
    "## 2. Generate and Analyze Random Noise\n",
    "Using PySDR’s built-in functions to generate Gaussian noise and visualize it."
   ]
  },
  {
   "cell_type": "code",
   "execution_count": null,
   "id": "842a8e32",
   "metadata": {},
   "outputs": [],
   "source": [
    "# Generate white Gaussian noise\n",
    "noise = np.random.normal(0, 1, 10000)\n",
    "\n",
    "# Plot PDF\n",
    "plt.figure()\n",
    "plt.hist(noise, bins=50, density=True, alpha=0.6)\n",
    "plt.title('Noise PDF')\n",
    "plt.xlabel('Amplitude')\n",
    "plt.ylabel('Probability Density')\n",
    "plt.grid()\n",
    "plt.show()\n",
    "\n",
    "# Plot PSD using PySDR\n",
    "spectrum.plot_psd(noise, title='Noise PSD (PySDR)', Fs=1.0)"
   ]
  },
  {
   "cell_type": "markdown",
   "id": "2ac01cb7",
   "metadata": {},
   "source": [
    "## 3. Digital Modulation with PySDR\n",
    "- Generate BPSK symbols.\n",
    "- Add noise and visualize constellation diagrams."
   ]
  },
  {
   "cell_type": "code",
   "execution_count": 1,
   "id": "e9e16520",
   "metadata": {},
   "outputs": [
    {
     "ename": "NameError",
     "evalue": "name 'np' is not defined",
     "output_type": "error",
     "traceback": [
      "\u001b[31m---------------------------------------------------------------------------\u001b[39m",
      "\u001b[31mNameError\u001b[39m                                 Traceback (most recent call last)",
      "\u001b[36mCell\u001b[39m\u001b[36m \u001b[39m\u001b[32mIn[1]\u001b[39m\u001b[32m, line 2\u001b[39m\n\u001b[32m      1\u001b[39m \u001b[38;5;66;03m# Generate BPSK symbols with PySDR\u001b[39;00m\n\u001b[32m----> \u001b[39m\u001b[32m2\u001b[39m bits = \u001b[43mnp\u001b[49m.random.randint(\u001b[32m0\u001b[39m, \u001b[32m2\u001b[39m, \u001b[32m1000\u001b[39m)\n\u001b[32m      3\u001b[39m symbols = digital.psk_modulate(bits, M=\u001b[32m2\u001b[39m)  \u001b[38;5;66;03m# BPSK\u001b[39;00m\n\u001b[32m      4\u001b[39m snr_db=\u001b[32m10\u001b[39m\n",
      "\u001b[31mNameError\u001b[39m: name 'np' is not defined"
     ]
    }
   ],
   "source": [
    "# Generate BPSK symbols with PySDR\n",
    "bits = np.random.randint(0, 2, 1000)\n",
    "symbols = digital.psk_modulate(bits, M=2)  # BPSK\n",
    "snr_db=10\n",
    "# Add noise\n",
    "noisy_symbols = add_awgn_noise(symbols, snr_db)\n",
    "\n",
    "# Plot constellation\n",
    "plt.figure()\n",
    "plt.scatter(noisy_symbols.real, noisy_symbols.imag, alpha=0.5)\n",
    "plt.title('Noisy BPSK Constellation')\n",
    "plt.grid()\n",
    "plt.show()"
   ]
  },
  {
   "cell_type": "markdown",
   "id": "a929398d",
   "metadata": {},
   "source": [
    "## 4. Matched Filter Receiver\n",
    "Design and apply matched filter to noisy signal."
   ]
  },
  {
   "cell_type": "code",
   "execution_count": null,
   "id": "3d0a46e5",
   "metadata": {},
   "outputs": [],
   "source": [
    "# TODO: Implement Matched filter (reversed pulse shape)\n",
    "#matched_filter = np.ones(1)  # For BPSK, simple pulse\n",
    "#output = convolve(noisy_symbols.real, matched_filter, mode='same')\n",
    "\n",
    "plt.figure()\n",
    "plt.plot(output[:100])\n",
    "plt.title('Matched Filter Output (Real Part)')\n",
    "plt.grid()\n",
    "plt.show()"
   ]
  },
  {
   "cell_type": "markdown",
   "id": "a8e01ea4",
   "metadata": {},
   "source": [
    "## 5. BER vs. SNR Analysis\n",
    "Compute and plot BER curves."
   ]
  },
  {
   "cell_type": "code",
   "execution_count": null,
   "id": "8b96fc2c",
   "metadata": {},
   "outputs": [],
   "source": [
    "# TODO: Implement BER vs. SNR curve with PySDR symbols\n",
    "SNR_dBs = np.arange(0, 11, 2)\n",
    "ber = []\n",
    "\n",
    "for snr in SNR_dBs:\n",
    "    noisy = add_awgn_noise(symbols, snr)\n",
    "    decisions = np.sign(noisy.real)\n",
    "    errors = np.sum(decisions != (2*bits - 1))\n",
    "    ber.append(errors / len(bits))\n",
    "\n",
    "plt.figure()\n",
    "plt.semilogy(SNR_dBs, ber, 'o-')\n",
    "plt.xlabel('SNR (dB)')\n",
    "plt.ylabel('BER')\n",
    "plt.title('BER vs. SNR (BPSK, PySDR)')\n",
    "plt.grid()\n",
    "plt.show()"
   ]
  },
  {
   "cell_type": "markdown",
   "id": "a927c2b9",
   "metadata": {},
   "source": [
    "## 6. Reflection\n",
    "How do noise, modulation, and matched filter work together?\n",
    "Discuss real-world implications (e.g., WiFi, 4G)."
   ]
  }
 ],
 "metadata": {
  "kernelspec": {
   "display_name": "workspace",
   "language": "python",
   "name": "python3"
  },
  "language_info": {
   "codemirror_mode": {
    "name": "ipython",
    "version": 3
   },
   "file_extension": ".py",
   "mimetype": "text/x-python",
   "name": "python",
   "nbconvert_exporter": "python",
   "pygments_lexer": "ipython3",
   "version": "3.12.2"
  }
 },
 "nbformat": 4,
 "nbformat_minor": 5
}
